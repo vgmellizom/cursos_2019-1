{
 "cells": [
  {
   "cell_type": "markdown",
   "metadata": {},
   "source": [
    "# INSERTION SORT"
   ]
  },
  {
   "cell_type": "markdown",
   "metadata": {},
   "source": [
    "# SWAPS"
   ]
  },
  {
   "cell_type": "code",
   "execution_count": 8,
   "metadata": {},
   "outputs": [
    {
     "name": "stdout",
     "output_type": "stream",
     "text": [
      "el promedio es :  14\n"
     ]
    },
    {
     "data": {
      "text/plain": [
       "(array([    8.,   103.,   517.,  1563.,  3355.,  5510.,  7186.,  7572.,\n",
       "         6467.,  4433.,  2376.,   945.,   250.,    35.]),\n",
       " array([  0.,   2.,   4.,   6.,   8.,  10.,  12.,  14.,  16.,  18.,  20.,\n",
       "         22.,  24.,  26.,  28.]),\n",
       " <a list of 14 Patch objects>)"
      ]
     },
     "execution_count": 8,
     "metadata": {},
     "output_type": "execute_result"
    },
    {
     "data": {
      "image/png": "[encoded data removed]",
      "text/plain": [
       "<matplotlib.figure.Figure at 0x7fbf3ba778d0>"
      ]
     },
     "metadata": {},
     "output_type": "display_data"
    }
   ],
   "source": [
    "import matplotlib.pyplot as plt\n",
    "from itertools import permutations\n",
    "import random\n",
    "import math\n",
    "\n",
    "class Counter:\n",
    "    def __init__(self):\n",
    "        self.steps = 0\n",
    "\n",
    "    def reset(self):\n",
    "        self.steps = 0\n",
    "\n",
    "    def count(self):\n",
    "        self.steps += 1\n",
    "\n",
    "    def print_steps(self):\n",
    "        return self.steps\n",
    "        \n",
    "def insertionsort(A,swap):   \n",
    "    for j in range(1,len(A)):\n",
    "        key = A[j] #look\n",
    "        i = j-1 \n",
    "        while (i > -1) and key < A[i]: \n",
    "            A[i+1]=A[i]\n",
    "            swap.count()\n",
    "            i=i-1\n",
    "        A[i+1] = key\n",
    "    return A\n",
    "    \n",
    "n= 8\n",
    "s= random.sample(range(100), n)\n",
    "s = list (s)\n",
    "x= list (permutations(s, n))\n",
    "f=n\n",
    "fac=1\n",
    "p=[]\n",
    "while f > 0:\n",
    "    fac= fac*f\n",
    "    f= f-1\n",
    "for i in range (0,fac):\n",
    "    t = list (x[i])\n",
    "    swap = Counter ()\n",
    "    insertionsort(t,swap)\n",
    "    p.append(swap.print_steps())\n",
    "    \n",
    "prom=0\n",
    "suma = 0    \n",
    "for h in range (0,fac):\n",
    "    suma = suma + p[h]\n",
    "    \n",
    "prom = (suma)/fac\n",
    "print \"el promedio es : \", prom\n",
    "plt.hist(p,round(1+(math.log(fac)/math.log(2)),0)-2,(min(p),max(p)))"
   ]
  },
  {
   "cell_type": "markdown",
   "metadata": {},
   "source": [
    "# LINES"
   ]
  },
  {
   "cell_type": "code",
   "execution_count": 44,
   "metadata": {},
   "outputs": [
    {
     "name": "stdout",
     "output_type": "stream",
     "text": [
      "('el promedio es : ', 70)\n"
     ]
    },
    {
     "data": {
      "text/plain": [
       "(array([    8.,   103.,   517.,  1563.,  3355.,  5510.,  7186.,  7572.,\n",
       "         6467.,  4433.,  2376.,   945.,   250.,    35.]),\n",
       " array([  28.,   34.,   40.,   46.,   52.,   58.,   64.,   70.,   76.,\n",
       "          82.,   88.,   94.,  100.,  106.,  112.]),\n",
       " <a list of 14 Patch objects>)"
      ]
     },
     "execution_count": 44,
     "metadata": {},
     "output_type": "execute_result"
    },
    {
     "data": {
      "image/png": "[encoded data removed]",
      "text/plain": [
       "<matplotlib.figure.Figure at 0x7fcbf47d0fd0>"
      ]
     },
     "metadata": {},
     "output_type": "display_data"
    }
   ],
   "source": [
    "import matplotlib.pyplot as plt\n",
    "from itertools import permutations\n",
    "import random\n",
    "import math\n",
    "\n",
    "\n",
    "class Counter:\n",
    "    def __init__(self):\n",
    "        self.steps = 0\n",
    "\n",
    "    def reset(self):\n",
    "        self.steps = 0\n",
    "\n",
    "    def count(self):\n",
    "        self.steps += 1\n",
    "\n",
    "    def print_steps(self):\n",
    "        return self.steps\n",
    "        \n",
    "def insertionsort(A,look):   \n",
    "    for j in range(1,len(A)):\n",
    "        look.count()\n",
    "        key = A[j] \n",
    "        look.count()\n",
    "        i = j-1 \n",
    "        look.count()\n",
    "        while (i > -1) and key < A[i]: \n",
    "            look.count()\n",
    "            A[i+1]=A[i]\n",
    "            look.count()\n",
    "            i=i-1\n",
    "            look.count()\n",
    "        A[i+1] = key\n",
    "        look.count()\n",
    "    return A\n",
    "    \n",
    "n= 8\n",
    "s= random.sample(range(100), n)\n",
    "s = list (s)\n",
    "x= list (permutations(s, n))\n",
    "p=[]\n",
    "f=n\n",
    "fac=1\n",
    "\n",
    "while f > 0:\n",
    "    fac= fac*f\n",
    "    f= f-1\n",
    "\n",
    "for i in range(0,fac):\n",
    "    t = list(x[i])\n",
    "    look = Counter()\n",
    "    insertionsort(t,look)\n",
    "    p.append(look.print_steps())\n",
    "    \n",
    "prom=0\n",
    "suma = 0    \n",
    "for h in range (0,fac):\n",
    "    suma = suma + p[h]\n",
    "    \n",
    "prom = (suma)/fac\n",
    "print \"el promedio es : \" , prom\n",
    "plt.hist(p,round(1+(math.log(fac)/math.log(2)),0)-2,(min(p),max(p)))"
   ]
  },
  {
   "cell_type": "markdown",
   "metadata": {},
   "source": [
    "# questions"
   ]
  },
  {
   "cell_type": "code",
   "execution_count": 54,
   "metadata": {},
   "outputs": [
    {
     "name": "stdout",
     "output_type": "stream",
     "text": [
      "('el promedio es : ', 21)\n"
     ]
    },
    {
     "data": {
      "text/plain": [
       "(array([    8.,   103.,   517.,  1563.,  3355.,  5510.,  7186.,  7572.,\n",
       "         6467.,  4433.,  2376.,   945.,   250.,    35.]),\n",
       " array([  7.,   9.,  11.,  13.,  15.,  17.,  19.,  21.,  23.,  25.,  27.,\n",
       "         29.,  31.,  33.,  35.]),\n",
       " <a list of 14 Patch objects>)"
      ]
     },
     "execution_count": 54,
     "metadata": {},
     "output_type": "execute_result"
    },
    {
     "data": {
      "image/png": "[encoded data removed]",
      "text/plain": [
       "<matplotlib.figure.Figure at 0x7fcba040bc50>"
      ]
     },
     "metadata": {},
     "output_type": "display_data"
    }
   ],
   "source": [
    "from itertools import permutations\n",
    "import matplotlib.pyplot as plt\n",
    "import random\n",
    "import math\n",
    "\n",
    "class Counter:\n",
    "\n",
    " \n",
    "    def __init__(self):\n",
    "        self.steps = 0\n",
    "        \n",
    "    def reset(self):\n",
    "        self.steps = 0\n",
    "\n",
    "    def count(self):\n",
    "        self.steps += 1\n",
    "\n",
    "    def print_steps(self):\n",
    "        return self.steps\n",
    "        \n",
    "def acct_insertion_sort(A, acct):\n",
    "    j = 1;\n",
    "    while j < len(A):\n",
    "        key = A[j];\n",
    "        i = j - 1;\n",
    "        while (i >= 0) and (A[i] > key):\n",
    "            acct.count()\n",
    "            A[i + 1] = A[i];\n",
    "            i = i -1;\n",
    "        acct.count()\n",
    "        A[i + 1] = key;\n",
    "        j = j + 1;\n",
    "n= 8\n",
    "s= random.sample(range(100), n)\n",
    "s = list (s)\n",
    "x= list (permutations(s, n))\n",
    "f=n\n",
    "fac=1\n",
    "p=[]\n",
    "while f > 0:\n",
    "    fac= fac*f\n",
    "    f= f-1\n",
    "for i in range (0,fac):\n",
    "    t = list (x[i])\n",
    "    step = Counter ()\n",
    "    acct_insertion_sort(t,step)\n",
    "    p.append(step.print_steps())\n",
    "    \n",
    "prom=0\n",
    "suma = 0    \n",
    "for h in range (0,len(p)):\n",
    "    suma = suma + p[h]\n",
    "    \n",
    "prom = (suma)/fac\n",
    "print \"el promedio es : \",  prom\n",
    "plt.hist(p,round(1+(math.log(fac)/math.log(2)),0)-2,(min(p),max(p)))"
   ]
  },
  {
   "cell_type": "markdown",
   "metadata": {},
   "source": [
    "# comparisons"
   ]
  },
  {
   "cell_type": "code",
   "execution_count": 7,
   "metadata": {},
   "outputs": [
    {
     "name": "stdout",
     "output_type": "stream",
     "text": [
      "el promedio es :  14\n"
     ]
    },
    {
     "data": {
      "text/plain": [
       "(array([    8.,   103.,   517.,  1563.,  3355.,  5510.,  7186.,  7572.,\n",
       "         6467.,  4433.,  2376.,   945.,   250.,    35.]),\n",
       " array([  0.,   2.,   4.,   6.,   8.,  10.,  12.,  14.,  16.,  18.,  20.,\n",
       "         22.,  24.,  26.,  28.]),\n",
       " <a list of 14 Patch objects>)"
      ]
     },
     "execution_count": 7,
     "metadata": {},
     "output_type": "execute_result"
    },
    {
     "data": {
      "image/png": "[encoded data removed]",
      "text/plain": [
       "<matplotlib.figure.Figure at 0x7fbf4aa42a90>"
      ]
     },
     "metadata": {},
     "output_type": "display_data"
    }
   ],
   "source": [
    "from itertools import permutations\n",
    "import matplotlib.pyplot as plt\n",
    "import random\n",
    "import math\n",
    "\n",
    "class Counter:\n",
    "\n",
    " \n",
    "    def __init__(self):\n",
    "        self.steps = 0\n",
    "        \n",
    "    def reset(self):\n",
    "        self.steps = 0\n",
    "\n",
    "    def count(self):\n",
    "        self.steps += 1\n",
    "\n",
    "    def print_steps(self):\n",
    "        return self.steps\n",
    "        \n",
    "def acct_insertion_sort(A, acct):\n",
    "    j = 1;\n",
    "    while j < len(A):\n",
    "        key = A[j];\n",
    "        i = j - 1;\n",
    "        while (i >= 0) and (A[i] > key):\n",
    "            acct.count()\n",
    "            A[i + 1] = A[i];\n",
    "            i = i -1;\n",
    "        A[i + 1] = key;\n",
    "        j = j + 1;\n",
    "n= 8\n",
    "s= random.sample(range(100), n)\n",
    "s = list (s)\n",
    "x= list (permutations(s, n))\n",
    "f=n\n",
    "fac=1\n",
    "p=[]\n",
    "while f > 0:\n",
    "    fac= fac*f\n",
    "    f= f-1\n",
    "for i in range (0,fac):\n",
    "    t = list (x[i])\n",
    "    step = Counter ()\n",
    "    acct_insertion_sort(t,step)\n",
    "    p.append(step.print_steps())\n",
    "    \n",
    "prom=0\n",
    "suma = 0    \n",
    "for h in range (0,len(p)):\n",
    "    suma = suma + p[h]\n",
    "    \n",
    "prom = (suma)/fac\n",
    "print \"el promedio es : \",  prom\n",
    "plt.hist(p,round(1+(math.log(fac)/math.log(2)),0)-2,(min(p),max(p)))"
   ]
  },
  {
   "cell_type": "markdown",
   "metadata": {},
   "source": [
    "# WITHOUT ITERTOOLS\n",
    "\n",
    "# SWAPS"
   ]
  },
  {
   "cell_type": "code",
   "execution_count": 18,
   "metadata": {},
   "outputs": [
    {
     "name": "stdout",
     "output_type": "stream",
     "text": [
      "40320\n",
      "40320\n",
      "el promedio es :  1\n"
     ]
    },
    {
     "data": {
      "text/plain": [
       "(array([  3.52800000e+04,   2.01600000e+03,   2.07200000e+03,\n",
       "          4.00000000e+02,   6.50000000e+01,   3.45000000e+02,\n",
       "          5.70000000e+01,   8.00000000e+00,   6.50000000e+01,\n",
       "          1.00000000e+00,   8.00000000e+00,   1.00000000e+00,\n",
       "          0.00000000e+00,   1.00000000e+00,   0.00000000e+00,\n",
       "          1.00000000e+00]),\n",
       " array([  1.   ,   2.125,   3.25 ,   4.375,   5.5  ,   6.625,   7.75 ,\n",
       "          8.875,  10.   ,  11.125,  12.25 ,  13.375,  14.5  ,  15.625,\n",
       "         16.75 ,  17.875,  19.   ]),\n",
       " <a list of 16 Patch objects>)"
      ]
     },
     "execution_count": 18,
     "metadata": {},
     "output_type": "execute_result"
    },
    {
     "data": {
      "image/png": "[encoded data removed]",
      "text/plain": [
       "<matplotlib.figure.Figure at 0x7fbf24fe4090>"
      ]
     },
     "metadata": {},
     "output_type": "display_data"
    }
   ],
   "source": [
    "import matplotlib.pyplot as plt\n",
    "import random\n",
    "import math\n",
    "\n",
    "p=[]\n",
    "v=[]\n",
    "class Counter:\n",
    "    steps=0\n",
    "    def __init__(self):\n",
    "        self.steps = 0\n",
    "    \n",
    "    def reset(self):\n",
    "        self.steps = 0\n",
    "\n",
    "    def count(self):\n",
    "        self.steps += 1\n",
    "\n",
    "    def print_steps(self):\n",
    "        return self.steps\n",
    "        \n",
    "def acct_insertion_sort(A, acct):\n",
    "    j = 1\n",
    "    while j < len(A):\n",
    "        key = A[j]\n",
    "        i = j - 1\n",
    "        while (i >= 0) and (A[i] > key):\n",
    "            A[i + 1] = A[i]\n",
    "            acct.count()\n",
    "            i = i-1\n",
    "        A[i + 1] = key\n",
    "        j = j + 1\n",
    "\n",
    "    \n",
    "        \n",
    "def perms( i, n):\n",
    "    global p\n",
    "    global v\n",
    "    if (i == n):\n",
    "        step = Counter( )\n",
    "        acct_insertion_sort(v,step)\n",
    "        p.append(step.print_steps())\n",
    "        #print(p[len(p)-1])\n",
    "\n",
    "    else:\n",
    "        j=i\n",
    "        while j<n:\n",
    "            v[i], v[j] = v[j], v[i]\n",
    "            perms(i+1, n)\n",
    "            v[i], v[j] = v[j], v[i]\n",
    "            j+=1\n",
    "\n",
    "        \n",
    "n= 8\n",
    "s= random.sample(range(100), n)\n",
    "v = list (s)\n",
    "perms(0,n)\n",
    "f=n\n",
    "fac=1\n",
    "while f > 0:\n",
    "    fac= fac*f\n",
    "    f= f-1\n",
    "    \n",
    "prom=0\n",
    "suma = 0    \n",
    "for h in range (0,len(p)):\n",
    "    suma = suma + p[h]\n",
    "print len(p)\n",
    "print fac\n",
    "prom = (suma)/fac\n",
    "print 'el promedio es : ',  prom\n",
    "plt.hist(p,round(1+(math.log(fac)/math.log(2)),0),(min(p),max(p)))"
   ]
  },
  {
   "cell_type": "markdown",
   "metadata": {},
   "source": [
    "# LINES"
   ]
  },
  {
   "cell_type": "code",
   "execution_count": null,
   "metadata": {},
   "outputs": [],
   "source": []
  },
  {
   "cell_type": "markdown",
   "metadata": {},
   "source": [
    "# QUESTIONS"
   ]
  },
  {
   "cell_type": "code",
   "execution_count": null,
   "metadata": {},
   "outputs": [],
   "source": []
  },
  {
   "cell_type": "markdown",
   "metadata": {},
   "source": [
    "# COMPARISONS"
   ]
  },
  {
   "cell_type": "code",
   "execution_count": null,
   "metadata": {},
   "outputs": [],
   "source": []
  }
 ],
 "metadata": {
  "kernelspec": {
   "display_name": "Python 2",
   "language": "python",
   "name": "python2"
  },
  "language_info": {
   "codemirror_mode": {
    "name": "ipython",
    "version": 2
   },
   "file_extension": ".py",
   "mimetype": "text/x-python",
   "name": "python",
   "nbconvert_exporter": "python",
   "pygments_lexer": "ipython2",
   "version": "2.7.12"
  }
 },
 "nbformat": 4,
 "nbformat_minor": 2
}